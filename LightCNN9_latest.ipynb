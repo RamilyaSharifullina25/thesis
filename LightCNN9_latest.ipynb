{
  "nbformat": 4,
  "nbformat_minor": 0,
  "metadata": {
    "colab": {
      "name": "LightCNN9.ipynb",
      "provenance": [],
      "collapsed_sections": []
    },
    "kernelspec": {
      "display_name": "Python 3",
      "name": "python3"
    },
    "language_info": {
      "name": "python"
    }
  },
  "cells": [
    {
      "cell_type": "code",
      "metadata": {
        "id": "Fadupv_E7mXj"
      },
      "source": [
        "from google.colab import drive\n",
        "drive.mount('/content/drive')"
      ],
      "execution_count": null,
      "outputs": []
    },
    {
      "cell_type": "code",
      "metadata": {
        "colab": {
          "base_uri": "https://localhost:8080/",
          "height": 201
        },
        "id": "ivr0a5UG4Chi",
        "outputId": "528cd468-0cff-45a2-a1f0-21dd500e46c1"
      },
      "source": [
        "# download CASIA-WebFace dataset if in COLAB\n",
        "\n",
        "!gdown --id 1Of_EVz-yHV7QVWQGihYfvtny9Ne8qXVz -O CASIA-WebFace.zip\n",
        "!unzip /content/CASIA-WebFace.zip\n",
        "!rm /content/CASIA-WebFace.zip"
      ],
      "execution_count": 75,
      "outputs": [
        {
          "output_type": "error",
          "ename": "TypeError",
          "evalue": "ignored",
          "traceback": [
            "\u001b[0;31m---------------------------------------------------------------------------\u001b[0m",
            "\u001b[0;31mTypeError\u001b[0m                                 Traceback (most recent call last)",
            "\u001b[0;32m<ipython-input-75-0d26c8774d14>\u001b[0m in \u001b[0;36m<module>\u001b[0;34m()\u001b[0m\n\u001b[1;32m      3\u001b[0m \u001b[0murl\u001b[0m \u001b[0;34m=\u001b[0m \u001b[0;34m'https://drive.google.com/file/d/1Of_EVz-yHV7QVWQGihYfvtny9Ne8qXVz/view?usp=sharing'\u001b[0m\u001b[0;34m\u001b[0m\u001b[0;34m\u001b[0m\u001b[0m\n\u001b[1;32m      4\u001b[0m \u001b[0moutput\u001b[0m \u001b[0;34m=\u001b[0m \u001b[0;34m'CASIA-WebFace'\u001b[0m\u001b[0;34m\u001b[0m\u001b[0;34m\u001b[0m\u001b[0m\n\u001b[0;32m----> 5\u001b[0;31m \u001b[0mgdown\u001b[0m\u001b[0;34m.\u001b[0m\u001b[0mdownload\u001b[0m\u001b[0;34m(\u001b[0m\u001b[0murl\u001b[0m\u001b[0;34m,\u001b[0m \u001b[0moutput\u001b[0m\u001b[0;34m)\u001b[0m\u001b[0;34m\u001b[0m\u001b[0;34m\u001b[0m\u001b[0m\n\u001b[0m",
            "\u001b[0;31mTypeError\u001b[0m: download() missing 1 required positional argument: 'quiet'"
          ]
        }
      ]
    },
    {
      "cell_type": "code",
      "metadata": {
        "id": "WGhrY-kDvbNa"
      },
      "source": [
        "import warnings\n",
        "warnings.filterwarnings(\"ignore\")\n",
        "\n",
        "import torch\n",
        "import torch.nn as nn\n",
        "import torch.nn.functional as F\n",
        "\n",
        "from torch.utils.data import Dataset\n",
        "from torch.utils.data import DataLoader\n",
        "\n",
        "import csv\n",
        "import pandas as pd\n",
        "import numpy as np\n",
        "import os\n",
        "import cv2\n",
        "import glob\n",
        "from PIL import Image\n",
        "import matplotlib.pyplot as plt\n",
        "\n",
        "import torchvision\n",
        "import torchvision.transforms as T\n",
        "from torchvision.io import read_image\n"
      ],
      "execution_count": 69,
      "outputs": []
    },
    {
      "cell_type": "code",
      "metadata": {
        "id": "SWqRqAlW77p_"
      },
      "source": [
        "device = torch.device('cuda') if torch.cuda.is_available() else torch.device('cpu')\n",
        "device"
      ],
      "execution_count": null,
      "outputs": []
    },
    {
      "cell_type": "code",
      "metadata": {
        "id": "SWit2gGZpTpC"
      },
      "source": [
        "data = []\n",
        "needed = []\n",
        "\n",
        "labels_paths = glob.glob('/content/CASIA-WebFace/' + '*')\n",
        "n_labels = len(labels_paths)\n",
        "\n",
        "for i in range(n_labels):\n",
        "  data.append(glob.glob(labels_paths[i] + '/*.jpg'))\n",
        "  \n",
        "for i in range(n_labels - 1):\n",
        "  needed.append([data[i][0], data[i][1], 1])\n",
        "\n",
        "for i in range(n_labels - 1):\n",
        "  needed.append([data[i][0], data[i + 1][0], 0])"
      ],
      "execution_count": 5,
      "outputs": []
    },
    {
      "cell_type": "code",
      "metadata": {
        "id": "ZbxIIFBsyFpu"
      },
      "source": [
        "with open('some.csv', 'w') as f:\n",
        "  writer = csv.writer(f)\n",
        "  writer.writerow(['img0', 'img1', 'relationshion'])\n",
        "  writer.writerows(needed)\n"
      ],
      "execution_count": 6,
      "outputs": []
    },
    {
      "cell_type": "code",
      "metadata": {
        "colab": {
          "base_uri": "https://localhost:8080/",
          "height": 206
        },
        "id": "C807ghiaGn3U",
        "outputId": "b85501a6-5ac6-4527-c89d-db8b148a0fc0"
      },
      "source": [
        "df = pd.read_csv('/content/some.csv')\n",
        "df = df.sample(frac=1)\n",
        "df.head()"
      ],
      "execution_count": 7,
      "outputs": [
        {
          "output_type": "execute_result",
          "data": {
            "text/html": [
              "<div>\n",
              "<style scoped>\n",
              "    .dataframe tbody tr th:only-of-type {\n",
              "        vertical-align: middle;\n",
              "    }\n",
              "\n",
              "    .dataframe tbody tr th {\n",
              "        vertical-align: top;\n",
              "    }\n",
              "\n",
              "    .dataframe thead th {\n",
              "        text-align: right;\n",
              "    }\n",
              "</style>\n",
              "<table border=\"1\" class=\"dataframe\">\n",
              "  <thead>\n",
              "    <tr style=\"text-align: right;\">\n",
              "      <th></th>\n",
              "      <th>img0</th>\n",
              "      <th>img1</th>\n",
              "      <th>relationshion</th>\n",
              "    </tr>\n",
              "  </thead>\n",
              "  <tbody>\n",
              "    <tr>\n",
              "      <th>21051</th>\n",
              "      <td>/content/CASIA-WebFace/1083389/004.jpg</td>\n",
              "      <td>/content/CASIA-WebFace/0061777/004.jpg</td>\n",
              "      <td>0</td>\n",
              "    </tr>\n",
              "    <tr>\n",
              "      <th>19515</th>\n",
              "      <td>/content/CASIA-WebFace/2316017/004.jpg</td>\n",
              "      <td>/content/CASIA-WebFace/1013239/004.jpg</td>\n",
              "      <td>0</td>\n",
              "    </tr>\n",
              "    <tr>\n",
              "      <th>17720</th>\n",
              "      <td>/content/CASIA-WebFace/0321621/004.jpg</td>\n",
              "      <td>/content/CASIA-WebFace/1703463/004.jpg</td>\n",
              "      <td>0</td>\n",
              "    </tr>\n",
              "    <tr>\n",
              "      <th>3266</th>\n",
              "      <td>/content/CASIA-WebFace/0000189/147.jpg</td>\n",
              "      <td>/content/CASIA-WebFace/0000189/004.jpg</td>\n",
              "      <td>1</td>\n",
              "    </tr>\n",
              "    <tr>\n",
              "      <th>15912</th>\n",
              "      <td>/content/CASIA-WebFace/2167817/004.jpg</td>\n",
              "      <td>/content/CASIA-WebFace/1836666/004.jpg</td>\n",
              "      <td>0</td>\n",
              "    </tr>\n",
              "  </tbody>\n",
              "</table>\n",
              "</div>"
            ],
            "text/plain": [
              "                                         img0  ... relationshion\n",
              "21051  /content/CASIA-WebFace/1083389/004.jpg  ...             0\n",
              "19515  /content/CASIA-WebFace/2316017/004.jpg  ...             0\n",
              "17720  /content/CASIA-WebFace/0321621/004.jpg  ...             0\n",
              "3266   /content/CASIA-WebFace/0000189/147.jpg  ...             1\n",
              "15912  /content/CASIA-WebFace/2167817/004.jpg  ...             0\n",
              "\n",
              "[5 rows x 3 columns]"
            ]
          },
          "metadata": {},
          "execution_count": 7
        }
      ]
    },
    {
      "cell_type": "code",
      "metadata": {
        "id": "5V4edo0pnExw"
      },
      "source": [
        "class CasiaWebFase(Dataset):\n",
        "  def __init__(self, \n",
        "               path,\n",
        "               csv_file,\n",
        "               transform\n",
        "               ):\n",
        "    self.path = path\n",
        "    self.relation_labels = pd.read_csv(csv_file)\n",
        "    self.transform = transform\n",
        "    \n",
        "  def __getitem__(self, index):\n",
        "\n",
        "    data = []\n",
        "    labels_paths = glob.glob(self.path + \"*\")\n",
        "    for label_path in labels_paths:\n",
        "      labels_name = label_path.split(\"/\")[-1]\n",
        "      for img_path in glob.glob(label_path + '/*.jpg'):\n",
        "        data.append([img_path, labels_name])\n",
        "\n",
        "    self.relation_labels = self.relation_labels.sample(frac=1)\n",
        "    \n",
        "    img0 = read_image(self.relation_labels.iloc[index, 0])\n",
        "    img1 = read_image(self.relation_labels.iloc[index, 1])\n",
        "    relation = self.relation_labels.iloc[index, 2]\n",
        "\n",
        "    if self.transform:\n",
        "      img0 = self.transform(img0)\n",
        "      img1 = self.transform(img1)\n",
        "    \n",
        "    return img0, img1, relation\n",
        "    \n",
        "  def __len__(self):\n",
        "    return len(data)\n",
        "    "
      ],
      "execution_count": 8,
      "outputs": []
    },
    {
      "cell_type": "code",
      "metadata": {
        "id": "4OlRULTonU90"
      },
      "source": [
        "transform = T.Compose([T.Resize((128,128)),\n",
        "                       T.Grayscale()])\n",
        "\n",
        "dataloader = DataLoader(CasiaWebFase('/content/CASIA-WebFace/',\n",
        "                                     '/content/some.csv',\n",
        "                                     transform),\n",
        "                        batch_size = 20)\n",
        "\n",
        "img0, img1, relation = next(iter(dataloader))\n"
      ],
      "execution_count": 48,
      "outputs": []
    },
    {
      "cell_type": "code",
      "metadata": {
        "id": "jsja8o-m0bSx"
      },
      "source": [
        "class mfm(nn.Module):\n",
        "  def __init__(self, in_ch, out_ch, kernel_size = 3, stride = 1, padding = 1, type=1):\n",
        "    super().__init__()\n",
        "    self.out_ch = out_ch\n",
        "    if type == 1:\n",
        "      self.filter = nn.Conv2d(in_ch, 2 * out_ch, kernel_size, stride, padding)\n",
        "    else:\n",
        "      self.filter = nn.Linear(in_ch, 2 * out_ch)\n",
        "  def forward(self, input):\n",
        "    input = self.filter(input)\n",
        "    output = torch.split(input, self.out_ch, 1)\n",
        "    return torch.max(output[0], output[1])"
      ],
      "execution_count": 10,
      "outputs": []
    },
    {
      "cell_type": "code",
      "metadata": {
        "id": "ylGE3JOKA7LC"
      },
      "source": [
        "class group(nn.Module):\n",
        "  def __init__(self, in_ch, out_ch, kernel_size, stride, padding):\n",
        "    super().__init__()\n",
        "    self.conv_a = mfm(in_ch, in_ch, 1, 1, 0)\n",
        "    self.conv = mfm(in_ch, out_ch, kernel_size, stride, padding)\n",
        "  def forward(self, input):\n",
        "    input = self.conv_a(input)\n",
        "    output = self.conv(input)\n",
        "    return output"
      ],
      "execution_count": 11,
      "outputs": []
    },
    {
      "cell_type": "code",
      "metadata": {
        "id": "NECK_p_TLOr9"
      },
      "source": [
        "class network_9layers(nn.Module):\n",
        "  def __init__(self):\n",
        "    super(network_9layers, self).__init__()\n",
        "    self.features = nn.Sequential(\n",
        "        mfm(1, 48, 5, 1, 2), \n",
        "        nn.MaxPool2d(kernel_size=2, stride=2, ceil_mode=True), \n",
        "        group(48, 96, 3, 1, 1), \n",
        "        nn.MaxPool2d(kernel_size=2, stride=2, ceil_mode=True),\n",
        "        group(96, 192, 3, 1, 1),\n",
        "        nn.MaxPool2d(kernel_size=2, stride=2, ceil_mode=True), \n",
        "        group(192, 128, 3, 1, 1),\n",
        "        group(128, 128, 3, 1, 1),\n",
        "        nn.MaxPool2d(kernel_size=2, stride=2, ceil_mode=True),\n",
        "        )\n",
        "    self.fc1 = mfm(8*8*128, 256, type=0)\n",
        "    self.fc2 = nn.Linear(256, 256)\n",
        "\n",
        "    self.fc3 = nn.Linear(512, 256)\n",
        "    self.fc4 = nn.Linear(256, 1)\n",
        "\n",
        "  def forward_once(self, input):\n",
        "\n",
        "    input = self.features(input)\n",
        "    input = input.view(input.size(0), -1)\n",
        "    input = self.fc1(input)\n",
        "    input = F.dropout(input, training=self.training)\n",
        "    output = self.fc2(input)\n",
        "    return output\n",
        "\n",
        "  def forward(self, input1, input2):\n",
        "    output1 = self.forward_once(input1)\n",
        "    output2 = self.forward_once(input2)\n",
        "    return output1, output2"
      ],
      "execution_count": 28,
      "outputs": []
    },
    {
      "cell_type": "code",
      "metadata": {
        "id": "oaKYEc1ubvI6"
      },
      "source": [
        "class ContrastiveLoss(nn.Module):\n",
        "  def __init__(self, margin):\n",
        "    super().__init__()\n",
        "    self.margin = margin\n",
        "  def forward(self, img0, img1, label):\n",
        "    euclidean_distance = F.pairwise_distance(img0, img1)\n",
        "    loss_contrastive = torch.mean((1-label) * torch.pow(euclidean_distance, 2) + (label) * torch.pow(torch.clamp(self.margin - euclidean_distance, min=0.0), 2))\n",
        "    return loss_contrastive\n"
      ],
      "execution_count": 33,
      "outputs": []
    },
    {
      "cell_type": "code",
      "metadata": {
        "id": "dySzbsklhcj9"
      },
      "source": [
        "model = network_9layers()\n",
        "criterion = ContrastiveLoss(margin=2.0)\n",
        "optimizer = torch.optim.SGD(model.parameters(), lr=0.001, momentum=0.9)\n",
        "num_epoch = 10"
      ],
      "execution_count": 34,
      "outputs": []
    },
    {
      "cell_type": "code",
      "metadata": {
        "id": "Z0mS84ejNvR9",
        "colab": {
          "base_uri": "https://localhost:8080/"
        },
        "outputId": "40c0503d-be78-4a13-c678-6c729d2e0795"
      },
      "source": [
        "from torch.autograd import Variable\n",
        "\n",
        "counter = []\n",
        "loss_history = [] \n",
        "iteration_number = 0\n",
        "\n",
        "for epoch in range(0, num_epoch):\n",
        "  for i, data in enumerate(dataloader, 0):\n",
        "    img0, img1 , label = data\n",
        "    img0, img1 = img0.float(), img1.float()\n",
        "    \n",
        "    output1, output2 = model(img0, img1)\n",
        "    optimizer.zero_grad()\n",
        "    loss_contrastive = criterion(output1, output2, label)\n",
        "    loss_contrastive.backward()\n",
        "    optimizer.step()\n",
        "\n",
        "    if i % 10 == 0 :\n",
        "      print(\"Epoch number {}\\n Current loss {}\\n\".format(epoch, loss_contrastive))\n",
        "      iteration_number +=10\n",
        "      counter.append(iteration_number)\n",
        "      loss_history.append(loss_contrastive)"
      ],
      "execution_count": 65,
      "outputs": [
        {
          "output_type": "stream",
          "name": "stdout",
          "text": [
            "Epoch number 0\n",
            " Current loss 12.869988441467285\n",
            "\n",
            "Epoch number 1\n",
            " Current loss 26.81017303466797\n",
            "\n",
            "Epoch number 2\n",
            " Current loss 29.29948616027832\n",
            "\n",
            "Epoch number 3\n",
            " Current loss 52.32004928588867\n",
            "\n",
            "Epoch number 4\n",
            " Current loss 27.152936935424805\n",
            "\n",
            "Epoch number 5\n",
            " Current loss 29.345178604125977\n",
            "\n",
            "Epoch number 6\n",
            " Current loss 20.703916549682617\n",
            "\n",
            "Epoch number 7\n",
            " Current loss 47.22914123535156\n",
            "\n",
            "Epoch number 8\n",
            " Current loss 14.664618492126465\n",
            "\n",
            "Epoch number 9\n",
            " Current loss 24.638051986694336\n",
            "\n"
          ]
        }
      ]
    },
    {
      "cell_type": "code",
      "metadata": {
        "colab": {
          "base_uri": "https://localhost:8080/",
          "height": 458
        },
        "id": "ez7GBrQr05h-",
        "outputId": "561e621d-3b34-443d-9565-a2ce6af00e4a"
      },
      "source": [
        "def loss_plot(counter, loss_history):\n",
        "  plt.figure(figsize=(10, 7))\n",
        "  plt.plot(counter, loss_history)\n",
        "  plt.title('Loss_history')\n",
        "  plt.xlabel('Number of epochs')\n",
        "  plt.ylabel('Loss')\n",
        "  plt.grid()\n",
        "\n",
        "loss_plot(counter,loss_history)"
      ],
      "execution_count": 74,
      "outputs": [
        {
          "output_type": "display_data",
          "data": {
            "image/png": "[encoded data removed]",
            "text/plain": [
              "<Figure size 720x504 with 1 Axes>"
            ]
          },
          "metadata": {
            "needs_background": "light"
          }
        }
      ]
    },
    {
      "cell_type": "code",
      "metadata": {
        "id": "3YeDuQLg05zV"
      },
      "source": [
        ""
      ],
      "execution_count": null,
      "outputs": []
    }
  ]
}