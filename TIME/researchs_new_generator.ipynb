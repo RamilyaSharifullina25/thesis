{
 "cells": [
  {
   "cell_type": "code",
   "execution_count": 1,
   "metadata": {},
   "outputs": [],
   "source": [
    "%load_ext autoreload\n",
    "%autoreload 2"
   ]
  },
  {
   "cell_type": "code",
   "execution_count": 2,
   "metadata": {
    "id": "h8-TMy69K89W"
   },
   "outputs": [],
   "source": [
    "import torch\n",
    "import torch.nn as nn\n",
    "import torch.optim as optim\n",
    "import torch.nn.functional as F\n",
    "\n",
    "from torch.autograd import Variable\n",
    "from torch.utils.data import Dataset\n",
    "from torch.utils.data import DataLoader\n",
    "import torchvision.transforms as transforms\n",
    "import torchvision.transforms.functional as TF\n",
    "import torchvision.datasets as datasets\n",
    "import torchvision.utils as vutils\n",
    "\n",
    "import os\n",
    "import json\n",
    "import numpy as np\n",
    "import csv\n",
    "import pandas as pd\n",
    "import math\n",
    "import numpy as np\n",
    "import glob\n",
    "import tqdm\n",
    "import sys\n",
    "from PIL import Image\n",
    "import matplotlib.pyplot as plt\n",
    "import matplotlib.animation as animation\n",
    "import matplotlib.image as mpimg\n",
    "from tqdm import tqdm\n",
    "import sklearn\n",
    "from sklearn.metrics import accuracy_score\n",
    "\n",
    "import seaborn as sns\n",
    "sns.set_theme(style=\"ticks\")\n",
    "\n",
    "import torchvision\n",
    "from torchvision.io import read_image\n",
    "\n",
    "# from sdtw_cuda_loss import SoftDTW"
   ]
  },
  {
   "cell_type": "code",
   "execution_count": 3,
   "metadata": {},
   "outputs": [],
   "source": [
    "# %load_ext tensorboard\n",
    "# from torch.utils.tensorboard import SummaryWriter"
   ]
  },
  {
   "cell_type": "code",
   "execution_count": 4,
   "metadata": {
    "colab": {
     "base_uri": "https://localhost:8080/"
    },
    "id": "3n2eJPXZDJZX",
    "outputId": "110bea7b-c981-4496-c4a9-672362f1e166"
   },
   "outputs": [
    {
     "data": {
      "text/plain": [
       "device(type='cuda', index=1)"
      ]
     },
     "execution_count": 4,
     "metadata": {},
     "output_type": "execute_result"
    }
   ],
   "source": [
    "device = torch.device('cuda:1') #  if torch.cuda.is_available() else torch.device('cpu')\n",
    "device"
   ]
  },
  {
   "cell_type": "code",
   "execution_count": 5,
   "metadata": {},
   "outputs": [],
   "source": [
    "# target_folder = './extracted/mwd/nopims/'\n",
    "target_folder = '/home/sharifullina/thesis/TIME/extracted/mwd/volve/'\n",
    "# target_folder = '/Users/ramilasarifullina/Desktop/extracted/well_logs/volve/'\n",
    "# target_folder = '/Users/ramilasarifullina/Desktop/extracted/well_logs/nopims/'"
   ]
  },
  {
   "cell_type": "markdown",
   "metadata": {},
   "source": [
    "### Выгрузим датасет Volve и преобразуем данные"
   ]
  },
  {
   "cell_type": "code",
   "execution_count": 6,
   "metadata": {},
   "outputs": [],
   "source": [
    "wells = os.listdir(target_folder)\n",
    "required_params_plus = ['DEPTH', 'ROPA', 'HKLA', 'WOB', 'SPPA', 'WELL']\n",
    "required_params = ['DEPTH', 'ROPA', 'HKLA', 'WOB', 'SPPA']\n",
    "\n",
    "logs = [json.load(open(os.path.join(target_folder, wells[i]), 'r')) for i in range(len(wells))]"
   ]
  },
  {
   "cell_type": "code",
   "execution_count": 7,
   "metadata": {},
   "outputs": [],
   "source": [
    "# X_all - Dataframe with all logging while drilling data concatenated\n",
    "\n",
    "dataset_all = [pd.DataFrame(logs[i]['data'], columns=[x['name'] for x in logs[i]['curves']]) for i in range(len(logs))]\n",
    "for i in range(len(dataset_all)):\n",
    "    dataset_all[i]['WELL'] = wells[i]\n",
    "\n",
    "dataset = []\n",
    "for df in dataset_all:\n",
    "    dataset.append(df[required_params_plus])\n",
    "    \n",
    "X_all = dataset[0]\n",
    "for i in range(1, len(dataset)):\n",
    "    X_all = pd.concat([X_all, dataset[i]], ignore_index = True)\n",
    "X_all = X_all.ffill().bfill()\n",
    "\n",
    "# X_list is a list containing a data for all wells splitted to windows with size 256\n",
    "\n",
    "X_list = []\n",
    "for i in range(0, len(X_all) - 256, 10):\n",
    "    X_list.append(X_all[i : 256 + i])\n",
    "\n",
    "    \n",
    "# X_list_minus is X_list but without the WELL column\n",
    "    \n",
    "X_list_minus = []\n",
    "for x in X_list:\n",
    "    X_list_minus.append(x.loc[:, x.columns != 'WELL'])\n",
    "\n",
    "X_verif_list = X_list_minus\n",
    "    \n",
    "# X is an array with the shape = (5901, 256, 5)\n",
    "    \n",
    "X = []\n",
    "for i in X_list_minus:\n",
    "    X.append(i.values)\n",
    "\n",
    "X = np.dstack(X)\n",
    "X = np.rollaxis(X, -1)\n",
    "\n",
    "# map_well_to_label is dictionary to help to rename wells from 'well_N' to N\n",
    "map_well_to_label = {w:i for i, w in enumerate(wells)}\n",
    "\n",
    "# label = well's number\n",
    "y = np.array([map_well_to_label[df['WELL'].iloc[0]] for df in X_list])\n"
   ]
  },
  {
   "cell_type": "markdown",
   "metadata": {},
   "source": [
    "### Импортируем verificator, regulator"
   ]
  },
  {
   "cell_type": "code",
   "execution_count": 8,
   "metadata": {},
   "outputs": [],
   "source": [
    "from dataset import *\n",
    "from model import * # GAN model\n",
    "from inceptiontime.src.models.inception import InceptionModel # Verificator\n",
    "# Regulator\n",
    "from time_series_metrics.ssim_loss import SSIM_1d_conv\n",
    "# from time_series_metrics.tsfresh_metrics import tsfresh_metrics\n",
    "from time_series_metrics.tsfresh_loss import Mean_similarity_loss, Root_mean_square_similarity_loss, Coisine_between_angles_loss, Pearson_corr_funct_loss, Eucledian_distance_loss\n"
   ]
  },
  {
   "cell_type": "markdown",
   "metadata": {},
   "source": [
    "### Загрузим датасет"
   ]
  },
  {
   "cell_type": "code",
   "execution_count": 9,
   "metadata": {},
   "outputs": [],
   "source": [
    "torch_dataset = DataSet(X, y, sparse_rate=1)\n",
    "all_loader = DataLoader(torch_dataset, batch_size=64, shuffle=True)\n"
   ]
  },
  {
   "cell_type": "code",
   "execution_count": 10,
   "metadata": {},
   "outputs": [],
   "source": [
    "train_n = 5310\n",
    "train_set, val_set = torch.utils.data.random_split(torch_dataset, [train_n, len(torch_dataset) - train_n])"
   ]
  },
  {
   "cell_type": "code",
   "execution_count": 11,
   "metadata": {},
   "outputs": [],
   "source": [
    "train_loader = DataLoader(train_set, batch_size=64, shuffle=True)\n",
    "val_loader = DataLoader(val_set, batch_size=64, shuffle=True)"
   ]
  },
  {
   "cell_type": "markdown",
   "metadata": {},
   "source": [
    "### создадим датасет для верификатора"
   ]
  },
  {
   "cell_type": "code",
   "execution_count": 12,
   "metadata": {},
   "outputs": [],
   "source": [
    "# соеденим все логи скважин в один большой pandas.DaraFrame\n",
    "dataset_all = [pd.DataFrame(logs[i]['data'], columns=[x['name'] for x in logs[i]['curves']]) for i in range(len(logs))]\n",
    "dataset = []\n",
    "for df in dataset_all:\n",
    "    dataset.append(df[required_params])\n",
    "X_all = dataset[0]\n",
    "for i in range(1, len(dataset)):\n",
    "    X_all = pd.concat([X_all, dataset[i]], ignore_index = True)\n",
    "X_all = X_all.ffill().bfill()"
   ]
  },
  {
   "cell_type": "code",
   "execution_count": 13,
   "metadata": {},
   "outputs": [
    {
     "data": {
      "text/plain": [
       "(920, 256, 5)"
      ]
     },
     "execution_count": 13,
     "metadata": {},
     "output_type": "execute_result"
    }
   ],
   "source": [
    "similar_wells = []\n",
    "\n",
    "for i in range(0, 18400, 20):\n",
    "    similar_wells.append(X_all[i : 256 + i])\n",
    "# преобразуем лист в массив с размерностью [20, 256, 5]; 20 - количество скважин, 256 - размерность окна, \n",
    "#                                                   5 - количество столбцов = len(required_params)\n",
    "similar_wells = np.dstack(similar_wells)\n",
    "similar_wells = np.rollaxis(similar_wells, -1)\n",
    "similar_wells.shape"
   ]
  },
  {
   "cell_type": "code",
   "execution_count": 14,
   "metadata": {},
   "outputs": [],
   "source": [
    "# different_wells = []\n",
    "\n",
    "# for i in range(0, 256 * 230, 256):\n",
    "#     different_wells.append(X_all[i : 256 + i])\n",
    "#     different_wells.append(X_all[i : 256 + i] + np.random.normal(X_all[i : 256 + i].mean(),\\\n",
    "#                                                                  X_all[i : 256 + i].std(), [256, 5]))\n",
    "#     different_wells.append(X_all[i : 256 + i] + np.random.normal(X_all[i : 256 + i].mean(), \\\n",
    "#                                                                  X_all[i : 256 + i].std(), [256, 5]))\n",
    "#     different_wells.append(X_all[i : 256 + i] + np.random.normal(X_all[i : 256 + i].mean(),\\\n",
    "#                                                                  X_all[i : 256 + i].std(), [256, 5]))\n",
    "    \n",
    "# different_wells = np.dstack(different_wells)\n",
    "# different_wells = np.rollaxis(different_wells, -1)\n",
    "\n",
    "\n",
    "import random\n",
    "different_wells = []\n",
    "\n",
    "for i in range(0, 256 * 230, 256):\n",
    "    different_wells.append(X_all[i : i + 256])\n",
    "    different_wells.append(X_all[i : i + 256])\n",
    "    different_wells.append(X_all[i : i + 256])\n",
    "    different_wells.append(X_all[i : i + 256])\n",
    "\n",
    "random.shuffle(different_wells)\n",
    "different_wells = np.dstack(different_wells)\n",
    "different_wells = np.rollaxis(different_wells, -1)"
   ]
  },
  {
   "cell_type": "code",
   "execution_count": 15,
   "metadata": {},
   "outputs": [],
   "source": [
    "needed = []\n",
    "for i in range(different_wells.shape[0]):\n",
    "    needed.append([different_wells[i - 1], different_wells[i], 1])\n",
    "    needed.append([similar_wells[i - 1], similar_wells[i], 0])"
   ]
  },
  {
   "cell_type": "code",
   "execution_count": 16,
   "metadata": {},
   "outputs": [],
   "source": [
    "# with open('some.csv', 'w') as f:\n",
    "#     writer = csv.writer(f)\n",
    "#     writer.writerow(['time1', 'time2', 'relationshion'])\n",
    "#     writer.writerows(needed)"
   ]
  },
  {
   "cell_type": "code",
   "execution_count": 17,
   "metadata": {},
   "outputs": [],
   "source": [
    "# df = pd.read_csv('some.csv')\n",
    "# df = df.sample(frac=1)\n",
    "# df.head()"
   ]
  },
  {
   "cell_type": "code",
   "execution_count": 18,
   "metadata": {},
   "outputs": [],
   "source": [
    "from torch.utils.data import Dataset\n",
    "\n",
    "class Verification(Dataset):\n",
    "    def __init__(self, needed, feature_scales_simil={}, feature_scales_diff={}):\n",
    "        \n",
    "        self.needed = needed\n",
    "        self.feature_scales_simil = feature_scales_simil\n",
    "        self.feature_scales_diff = feature_scales_diff\n",
    "        \n",
    "    def __getitem__(self, index):\n",
    "\n",
    "        time1 = self.needed[index][0]\n",
    "        time2 = self.needed[index][1]\n",
    "        relation = self.needed[index][2]\n",
    "        \n",
    "        self.time1 = torch.tensor(time1).to(torch.float32)\n",
    "        self.time2 = torch.tensor(time2).to(torch.float32)\n",
    "        self.relation = torch.tensor(relation).to(torch.float32)\n",
    "        \n",
    "        # time1\n",
    "        for f in range(self.time1.shape[1]):\n",
    "            self.time1[:, f] = self.time1[:, f] - self.time1[:, f].mean()\n",
    "            \n",
    "        for f in range(self.time1.shape[1]):\n",
    "            if f not in self.feature_scales_simil:\n",
    "                std = self.time1[:, f].std()\n",
    "                self.feature_scales_simil[f] = std\n",
    "            self.time1[:, f] = self.time1[:, f] / self.feature_scales_simil[f]\n",
    "            \n",
    "        # time2\n",
    "        for f in range(self.time2.shape[1]):\n",
    "            self.time2[:, f] = self.time2[:, f] - self.time2[:, f].mean()\n",
    "            \n",
    "        for f in range(self.time2.shape[1]):\n",
    "            if f not in self.feature_scales_diff:\n",
    "                std = self.time2[:, f].std()\n",
    "                self.feature_scales_diff[f] = std\n",
    "            self.time2[:, f] = self.time2[:, f] / self.feature_scales_diff[f]\n",
    "            \n",
    "        self.time1 = self.time1.transpose(0, 1)\n",
    "        self.time2 = self.time2.transpose(0, 1)\n",
    "\n",
    "        return self.time1, self.time2, self.relation\n",
    "\n",
    "    def __len__(self):\n",
    "        return len(self.needed)\n",
    "    "
   ]
  },
  {
   "cell_type": "code",
   "execution_count": 19,
   "metadata": {},
   "outputs": [],
   "source": [
    "verif_dataset = Verification(needed)\n",
    "verif_loader = DataLoader(verif_dataset, batch_size=64, shuffle=True)"
   ]
  },
  {
   "cell_type": "code",
   "execution_count": 20,
   "metadata": {},
   "outputs": [
    {
     "name": "stdout",
     "output_type": "stream",
     "text": [
      "torch.Size([64, 5, 256])\n",
      "torch.Size([64, 5, 256])\n",
      "tensor([1., 1., 1., 1., 1., 1., 0., 1., 0., 1., 1., 1., 0., 0., 0., 0., 1., 1.,\n",
      "        0., 1., 0., 0., 0., 1., 0., 1., 0., 0., 1., 1., 0., 1., 1., 0., 0., 0.,\n",
      "        1., 1., 1., 0., 0., 0., 1., 1., 0., 0., 0., 1., 0., 1., 1., 1., 1., 1.,\n",
      "        1., 0., 0., 1., 0., 0., 0., 1., 1., 0.])\n"
     ]
    }
   ],
   "source": [
    "# test\n",
    "for time1, time2, label in verif_loader:\n",
    "    print(time1.shape)\n",
    "    print(time2.shape)\n",
    "    print(label)\n",
    "    break"
   ]
  },
  {
   "cell_type": "markdown",
   "metadata": {},
   "source": [
    "### Train verification model"
   ]
  },
  {
   "cell_type": "code",
   "execution_count": 21,
   "metadata": {},
   "outputs": [],
   "source": [
    "model_verification = InceptionModel(num_blocks=2, in_channels=len(required_params), \n",
    "                       out_channels=30,\n",
    "                       bottleneck_channels=12, kernel_sizes=15,\n",
    "                       use_residuals=True, \n",
    "                       num_pred_classes=len(wells)).to(device)\n",
    "\n",
    "optimizer_verification = torch.optim.Adam(model_verification.parameters(), lr=1e-3)"
   ]
  },
  {
   "cell_type": "code",
   "execution_count": 22,
   "metadata": {},
   "outputs": [],
   "source": [
    "class VerificationLoss(torch.nn.Module):\n",
    "\n",
    "    def __init__(self, margin=2.0):\n",
    "        super(VerificationLoss, self).__init__()\n",
    "        self.margin = margin\n",
    "\n",
    "    def forward(self, output1, output2, label):\n",
    "        euclidean_distance = F.pairwise_distance(output1, output2)\n",
    "        pos = (1-label) * torch.pow(euclidean_distance, 2)\n",
    "        neg = (label) * torch.pow(torch.clamp(self.margin - euclidean_distance, min=0.0), 2)\n",
    "        loss_contrastive = torch.mean( pos + neg )\n",
    "        return loss_contrastive\n",
    "\n",
    "criterion_verification = VerificationLoss()"
   ]
  },
  {
   "cell_type": "code",
   "execution_count": 23,
   "metadata": {},
   "outputs": [
    {
     "name": "stdout",
     "output_type": "stream",
     "text": [
      "Epoch [0/100] Loss V: 0.5331\n",
      "Epoch [10/100] Loss V: 0.2501\n",
      "Epoch [20/100] Loss V: 0.2453\n",
      "Epoch [30/100] Loss V: 0.2200\n",
      "Epoch [40/100] Loss V: 0.2654\n",
      "Epoch [50/100] Loss V: 0.4961\n",
      "Epoch [60/100] Loss V: 0.3439\n",
      "Epoch [70/100] Loss V: 0.2103\n",
      "Epoch [80/100] Loss V: 0.2380\n",
      "Epoch [90/100] Loss V: 0.1603\n"
     ]
    },
    {
     "data": {
      "image/png": "[encoded data removed]",
      "text/plain": [
       "<Figure size 432x288 with 1 Axes>"
      ]
     },
     "metadata": {},
     "output_type": "display_data"
    }
   ],
   "source": [
    "best_train_acc = 0\n",
    "train_loss = []\n",
    "train_acc = []\n",
    "num_epochs = 100\n",
    "patience_counter = 0\n",
    "best_state_dict = None\n",
    "\n",
    "for epoch in range(num_epochs):\n",
    "    model_verification.train();\n",
    "    epoch_train_loss = []\n",
    "    all_preds = []\n",
    "    all_y = []\n",
    "    for time1, time2, label in verif_loader:\n",
    "        time1 = time1.to(device)\n",
    "        time2 = time2.to(device)\n",
    "        label = label.to(device)\n",
    "        optimizer_verification.zero_grad()\n",
    "        encoded_1 = model_verification(time1) \n",
    "        encoded_2 = model_verification(time2)\n",
    "        loss = criterion_verification(encoded_1, encoded_2, label)\n",
    "        epoch_train_loss.append(loss.item())\n",
    "        loss.backward()\n",
    "        optimizer_verification.step()\n",
    "    if epoch % 10 == 0:\n",
    "        print(f\"Epoch [{epoch}/{num_epochs}] Loss V: {loss.item():.4f}\")\n",
    "    train_loss.append(np.mean(epoch_train_loss))\n",
    "\n",
    "\n",
    "plt.plot(train_loss, label = 'train loss')\n",
    "plt.legend()\n",
    "plt.grid()\n",
    "plt.title('Mean loss inception score')\n",
    "plt.show()\n",
    "\n",
    "torch.save({\n",
    "    'model_state_dict': model_verification.state_dict(),\n",
    "}, \n",
    "    'trained_models/model_verification.pt'\n",
    ")"
   ]
  },
  {
   "cell_type": "code",
   "execution_count": 24,
   "metadata": {},
   "outputs": [
    {
     "data": {
      "text/plain": [
       "<All keys matched successfully>"
      ]
     },
     "execution_count": 24,
     "metadata": {},
     "output_type": "execute_result"
    }
   ],
   "source": [
    "model_verification = InceptionModel(num_blocks=2, in_channels=len(required_params), \n",
    "                                    out_channels=30,\n",
    "                                    bottleneck_channels=12, kernel_sizes=15,\n",
    "                                    use_residuals=True, \n",
    "                                    num_pred_classes=len(wells)).to(device)\n",
    "checkpoint = torch.load('trained_models/model_verification.pt')\n",
    "model_verification.load_state_dict(checkpoint['model_state_dict'])\n",
    "# model_verification.eval()"
   ]
  },
  {
   "cell_type": "markdown",
   "metadata": {},
   "source": [
    "### check smth"
   ]
  },
  {
   "cell_type": "code",
   "execution_count": 25,
   "metadata": {},
   "outputs": [],
   "source": [
    "def add_noise(x, noise_rate):\n",
    "    x = x + (torch.randn_like(x) * noise_rate).to(device)\n",
    "    return x\n",
    "\n",
    "class AutoEncoder(nn.Module):\n",
    "    def __init__(self, in_channels, conv1_channels=20, conv2_channels=50, \n",
    "                 K1=10, P1=5, S1=2, K2=5, P2=2, S2=2,\n",
    "                 interm_lsz=400, pre_hidden_sz=50, hidden_lsz=20):\n",
    "        super(AutoEncoder, self).__init__()\n",
    "        self.in_channels = in_channels\n",
    "        self.conv1 = nn.Conv1d(in_channels=in_channels, out_channels=conv1_channels, \n",
    "                               kernel_size=K1, padding=P1, stride=S1)\n",
    "        conv1_L = (L - K1 + 2*P1)//S1 + 1\n",
    "        print('conv1_L', conv1_L)\n",
    "        conv1_sz = conv1_channels * conv1_L\n",
    "        print('conv1_sz', conv1_sz)\n",
    "        self.conv2 = nn.Conv1d(in_channels=conv1_channels + in_channels, # gradient flow\n",
    "                               out_channels=conv2_channels, \n",
    "                               kernel_size=K2, padding=P2, stride=S2)\n",
    "        conv2_L = (conv1_L - K2 + 2*P2)//S2 + 1\n",
    "        print('conv2_L', conv2_L)\n",
    "        conv2_sz = conv2_channels * conv2_L\n",
    "        print('conv2_sz', conv2_sz)\n",
    "        self.fce1 = nn.Linear(conv2_sz, interm_lsz)\n",
    "        self.fce2 = nn.Linear(interm_lsz, pre_hidden_sz)\n",
    "        self.fce3 = nn.Linear(pre_hidden_sz, hidden_lsz)\n",
    "        self.fcd1 = nn.Linear(hidden_lsz, pre_hidden_sz)\n",
    "        self.fcd2 = nn.Linear(pre_hidden_sz, interm_lsz)\n",
    "        self.fcd3 = nn.Linear(interm_lsz, conv2_sz)\n",
    "        deconv4_L = (conv2_L - 1) * S2 - 2 * P2 + K2\n",
    "        print('deconv4_L', deconv4_L)\n",
    "        self.deconv4 = nn.ConvTranspose1d(in_channels=conv2_channels, \n",
    "                                          out_channels=conv1_channels + in_channels, # gradient flow \n",
    "                                          kernel_size=K2, padding=P2, stride=S2, \n",
    "                                          output_padding=conv1_L - deconv4_L)\n",
    "        deconv5_L = (conv1_L - 1) * S1 - 2 * P1 + K1\n",
    "        print('deconv5_L', deconv5_L)\n",
    "        self.deconv5 = nn.ConvTranspose1d(in_channels=conv1_channels, out_channels=in_channels, \n",
    "                                          kernel_size=K1, padding=P1, stride=S1,\n",
    "                                          output_padding=L - deconv5_L)\n",
    "        self.reset_parameters()\n",
    "        \n",
    "\n",
    "    def encode(self, x, noise_rate, alpha=0.):\n",
    "        h0 = self.conv1(x.transpose(1, 2))\n",
    "        h0_downscale = nn.functional.avg_pool1d(x.transpose(1, 2), kernel_size=2, stride=2, padding=1)\n",
    "        h0 = torch.cat((h0_downscale, h0), dim=1)\n",
    "        h0 = add_noise(h0, noise_rate)\n",
    "        h0 = F.leaky_relu(h0)\n",
    "        h0 = self.conv2(h0)\n",
    "        h0 = add_noise(h0, noise_rate)\n",
    "        h0 = F.leaky_relu(h0.view(h0.shape[0], -1))\n",
    "        h1 = self.fce1(h0)\n",
    "        h1 = add_noise(h1, noise_rate)\n",
    "        h1 = F.leaky_relu(h1)\n",
    "        \n",
    "        h2 = self.fce2(h1)\n",
    "        h2 = add_noise(h2, noise_rate)\n",
    "        h2 = F.leaky_relu(h2)\n",
    "        return self.fce3(h2)\n",
    "\n",
    "    def decode(self, z, noise_rate=0., alpha=0.):\n",
    "        h1 = F.leaky_relu(self.fcd1(z))\n",
    "        h1 = add_noise(h1, noise_rate)\n",
    "        h2 = F.leaky_relu(self.fcd2(h1))\n",
    "        h2 = add_noise(h2, noise_rate)\n",
    "        h3 = F.leaky_relu(self.fcd3(h2))\n",
    "        h3 = add_noise(h3, noise_rate)\n",
    "        h4 = self.deconv4(h3.view(z.shape[0], self.deconv4.in_channels, -1))\n",
    "        h4 = add_noise(h4, noise_rate)\n",
    "        h4_upscale = h4[:, :self.in_channels, :]\n",
    "        h4 = h4[:, self.in_channels:, :]\n",
    "        h4 = F.leaky_relu(h4)\n",
    "        h4 = self.deconv5(h4)\n",
    "        h4_upscale = nn.functional.interpolate(h4_upscale, mode='linear', size=h4.shape[-1])\n",
    "        h4 = (0.5*h4 + 0.5*h4_upscale).transpose(1, 2)\n",
    "        return h4\n",
    "\n",
    "\n",
    "    def forward(self, x, noise_rate=0, latent_noise_rate=0, alpha=0):\n",
    "        x = add_noise(x, noise_rate)\n",
    "        z = self.encode(x, noise_rate, alpha)\n",
    "        z = add_noise(z, latent_noise_rate)\n",
    "        return self.decode(z, noise_rate, alpha)\n",
    "    \n",
    "    def reset_parameters(self):\n",
    "        init_range = 0.025\n",
    "        for param in self.parameters():\n",
    "            param.data.uniform_(-init_range, init_range)"
   ]
  },
  {
   "cell_type": "code",
   "execution_count": 26,
   "metadata": {},
   "outputs": [
    {
     "name": "stdout",
     "output_type": "stream",
     "text": [
      "conv1_L 129\n",
      "conv1_sz 6450\n",
      "conv2_L 65\n",
      "conv2_sz 6500\n",
      "deconv4_L 129\n",
      "deconv5_L 256\n"
     ]
    }
   ],
   "source": [
    "# GANs hyperparamters\n",
    "lr = 3e-4\n",
    "batch_size = 64\n",
    "num_epochs = 100\n",
    "n_noise = 256\n",
    "n_critic = 1\n",
    "# fixed_noise = torch.randn((batch_size, len(required_params), 256)).to(device)\n",
    "latent_dim = 256\n",
    "L = 256\n",
    "model_ae = AutoEncoder(in_channels=len(required_params), \n",
    "                       conv1_channels=50, \n",
    "                       conv2_channels=100, \n",
    "                       interm_lsz=1000, \n",
    "                       pre_hidden_sz=200, \n",
    "                       hidden_lsz=latent_dim).to(device)\n",
    "\n",
    "disc_ae = Discriminator().to(device)\n",
    "\n",
    "D_opt_ae = torch.optim.Adam(disc_ae.parameters(), lr = lr)\n",
    "G_opt_ae = torch.optim.Adam(model_ae.parameters(), lr = lr)\n",
    "\n",
    "criterion_ae = nn.BCELoss()"
   ]
  },
  {
   "cell_type": "code",
   "execution_count": 27,
   "metadata": {},
   "outputs": [
    {
     "name": "stdout",
     "output_type": "stream",
     "text": [
      "torch.Size([64, 256, 5])\n",
      "torch.Size([64, 5, 256])\n"
     ]
    }
   ],
   "source": [
    "for idx, data_all in enumerate(train_loader):\n",
    "    real_data, y = data_all\n",
    "    real_data = real_data.transpose(1, 2).to(device)\n",
    "    print(real_data.shape)\n",
    "    print(model_ae(real_data).transpose(1, 2).shape)\n",
    "    break"
   ]
  },
  {
   "cell_type": "markdown",
   "metadata": {
    "id": "hPuWwI7NbSOl"
   },
   "source": [
    "### Training models"
   ]
  },
  {
   "cell_type": "code",
   "execution_count": 28,
   "metadata": {},
   "outputs": [],
   "source": [
    "def train(loader, \n",
    "          gen, \n",
    "          disc, \n",
    "          criterion_gan, \n",
    "          G_opt, \n",
    "          D_opt, \n",
    "          model_verification, \n",
    "          criterion_verification, \n",
    "          criterion_regulator,\n",
    "          save_PATH, \n",
    "          lr, batch_size, num_epochs, n_noise, n_critic):\n",
    "    \n",
    "    de_ident_rate_list = []\n",
    "    simil_index = 0\n",
    "\n",
    "    G_losses = []\n",
    "    D_losses = []\n",
    "    R_losses = []\n",
    "    V_losses = []\n",
    "    V_losses2 = []\n",
    "    verificator_labels = []\n",
    "    verificator_preds = []\n",
    "\n",
    "    torch.cuda.empty_cache()\n",
    "\n",
    "    for epoch in range(num_epochs):\n",
    "        for idx, data_all in enumerate(loader):\n",
    "            # data preprocessing\n",
    "            step = 0\n",
    "            real_data, y = data_all\n",
    "            real_data, y = real_data.to(device), y.to(device)\n",
    "            batch_size = real_data.size(0)\n",
    "\n",
    "            # DISCRIMINATOR TRAINING == maximize D(real_data) + (1 - D(G(noise)))\n",
    "            gen.eval()\n",
    "            disc.train()\n",
    "            D_opt.zero_grad()\n",
    "\n",
    "            fake = gen(real_data.transpose(1, 2))\n",
    "            disc_real = disc(real_data)        \n",
    "            D_loss_1 = criterion_gan(disc_real, torch.ones_like(disc_real))\n",
    "            disc_fake = disc(fake.transpose(1, 2))\n",
    "            D_loss_2 = criterion_gan(disc_fake, torch.zeros_like(disc_fake))\n",
    "            \n",
    "            # verificator loss\n",
    "            model_verification.eval()\n",
    "            embeding_fake = model_verification(fake.transpose(1, 2))\n",
    "            embeding_real = model_verification(real_data)\n",
    "            label = torch.ones(batch_size).to(device)\n",
    "            loss_verif = criterion_verification(embeding_real, embeding_fake, label)\n",
    "            V_losses.append(loss_verif.item())\n",
    "            \n",
    "            # de-identification rate\n",
    "            pred_equal_y = torch.tensor([embeding_fake[i, y[i] - 1].item() for i in range(len(y))]).to(device)\n",
    "            pred_max = torch.max(embeding_fake, dim = 1)[0]\n",
    "            de_ident_rate_list.append((pred_equal_y < pred_max).float().mean())\n",
    "            \n",
    "            # similarity loss\n",
    "            if criterion_regulator != Eucledian_distance_loss:\n",
    "                loss_regul = criterion_regulator()(real_data, fake.transpose(1, 2))\n",
    "            else:\n",
    "                loss_regul = criterion_regulator()(real_data, fake.transpose(1, 2)) / 1000\n",
    "            R_losses.append(loss_regul.item())\n",
    "            \n",
    "            D_loss = (D_loss_1 + D_loss_2) / 2 + loss_verif.detach() + loss_regul.detach()\n",
    "            D_losses.append(D_loss.item())\n",
    "            D_loss.backward() # retain_graph = True\n",
    "            D_opt.step()\n",
    "            \n",
    "            # GENERATOR TRAINING == maximize D(G(noise))\n",
    "            gen.train()\n",
    "            disc.eval()\n",
    "            G_opt.zero_grad()\n",
    "\n",
    "            fake = gen(real_data.transpose(1, 2))\n",
    "            output = disc(fake.transpose(1, 2))\n",
    "            G_loss = criterion_gan(output, torch.ones_like(output))\n",
    "            G_losses.append(G_loss.item())\n",
    "            G_loss.backward() \n",
    "            G_opt.step()\n",
    "\n",
    "        if epoch % 10 == 0:\n",
    "            print(f\"Epoch [{epoch}/{num_epochs}] Batch {idx}/{len(loader)} Loss D: {D_loss.item():.4f}, Loss G: {G_loss.item():.4f}, Loss V: {loss_verif.item():.4f}, Loss R: {loss_regul.item():.4f}\")\n",
    "\n",
    "\n",
    "            step += 1\n",
    "            \n",
    "    de_ident_rate = (sum(de_ident_rate_list) / len(de_ident_rate_list)).item()\n",
    "    str_simil = 1 - sum(R_losses) / len(R_losses)\n",
    "                    \n",
    "    torch.save({\n",
    "        'gen_state_dict': gen.state_dict(),\n",
    "        'disc_state_dict': disc.state_dict(),\n",
    "        'de_ident_rate': de_ident_rate,\n",
    "        'str_simil': str_simil\n",
    "    }, save_PATH)\n",
    "    \n",
    "    return G_losses, D_losses, R_losses, V_losses, V_losses2"
   ]
  },
  {
   "cell_type": "markdown",
   "metadata": {},
   "source": [
    "### models training"
   ]
  },
  {
   "cell_type": "code",
   "execution_count": 29,
   "metadata": {},
   "outputs": [
    {
     "name": "stdout",
     "output_type": "stream",
     "text": [
      "torch.Size([64, 5, 256])\n"
     ]
    }
   ],
   "source": [
    "for idx, data_all in enumerate(train_loader):\n",
    "    real_data, y = data_all\n",
    "    print(real_data.shape)\n",
    "    break"
   ]
  },
  {
   "cell_type": "code",
   "execution_count": 30,
   "metadata": {},
   "outputs": [
    {
     "name": "stdout",
     "output_type": "stream",
     "text": [
      "Epoch [0/100] Batch 82/83 Loss D: 0.1893, Loss G: 0.3441, Loss V: 0.0000, Loss R: 0.0000\n",
      "Epoch [10/100] Batch 82/83 Loss D: 0.0012, Loss G: 0.2045, Loss V: 0.0000, Loss R: 0.0000\n",
      "Epoch [20/100] Batch 82/83 Loss D: 0.0009, Loss G: 0.3439, Loss V: 0.0000, Loss R: 0.0000\n",
      "Epoch [30/100] Batch 82/83 Loss D: 0.0005, Loss G: 0.4028, Loss V: 0.0000, Loss R: 0.0000\n",
      "Epoch [40/100] Batch 82/83 Loss D: 0.0012, Loss G: 2.8454, Loss V: 0.0000, Loss R: 0.0000\n",
      "Epoch [50/100] Batch 82/83 Loss D: 0.0433, Loss G: 3.2101, Loss V: 0.0000, Loss R: 0.0000\n",
      "Epoch [60/100] Batch 82/83 Loss D: 0.0001, Loss G: 3.0274, Loss V: 0.0000, Loss R: 0.0000\n",
      "Epoch [70/100] Batch 82/83 Loss D: 0.0001, Loss G: 3.1258, Loss V: 0.0000, Loss R: 0.0000\n",
      "Epoch [80/100] Batch 82/83 Loss D: 0.0000, Loss G: 2.4979, Loss V: 0.0000, Loss R: 0.0000\n",
      "Epoch [90/100] Batch 82/83 Loss D: 0.0001, Loss G: 2.8372, Loss V: 0.0000, Loss R: 0.0000\n"
     ]
    }
   ],
   "source": [
    "losses_ae = train(loader = train_loader, \n",
    "                  gen = model_ae, \n",
    "                  disc = disc_ae, \n",
    "                  criterion_gan = criterion_ae, \n",
    "                  G_opt = G_opt_ae, \n",
    "                  D_opt = D_opt_ae, \n",
    "                  model_verification = model_verification, \n",
    "                  criterion_verification = criterion_verification, \n",
    "                  criterion_regulator = Mean_similarity_loss,\n",
    "                  save_PATH = 'trained_models/gan_ae.pt', \n",
    "                  lr = lr, \n",
    "                  batch_size = batch_size, \n",
    "                  num_epochs = num_epochs, \n",
    "                  n_noise = n_noise, \n",
    "                  n_critic = n_critic)"
   ]
  },
  {
   "cell_type": "code",
   "execution_count": 31,
   "metadata": {},
   "outputs": [
    {
     "data": {
      "image/png": "[encoded data removed]",
      "text/plain": [
       "<Figure size 720x504 with 1 Axes>"
      ]
     },
     "metadata": {},
     "output_type": "display_data"
    }
   ],
   "source": [
    "plt.figure(figsize=(10, 7))\n",
    "plt.plot(losses_ae[0], label = 'G_losses')\n",
    "plt.plot(losses_ae[1], label = 'D_losses')\n",
    "plt.plot(losses_ae[2], label = 'R_losses')\n",
    "plt.plot(losses_ae[3], label = 'V_losses')\n",
    "plt.legend()\n",
    "plt.grid()\n",
    "plt.show()"
   ]
  },
  {
   "cell_type": "code",
   "execution_count": 32,
   "metadata": {},
   "outputs": [
    {
     "name": "stdout",
     "output_type": "stream",
     "text": [
      "conv1_L 129\n",
      "conv1_sz 6450\n",
      "conv2_L 65\n",
      "conv2_sz 6500\n",
      "deconv4_L 129\n",
      "deconv5_L 256\n",
      "0.9844456315040588\n",
      "0.9988402814286983\n"
     ]
    }
   ],
   "source": [
    "model_ae = AutoEncoder(in_channels=len(required_params), \n",
    "                       conv1_channels=50, \n",
    "                       conv2_channels=100, \n",
    "                       interm_lsz=1000, \n",
    "                       pre_hidden_sz=200, \n",
    "                       hidden_lsz=latent_dim).to(device)\n",
    "disc_ae = Discriminator().to(device)\n",
    "\n",
    "checkpoint_ae = torch.load('trained_models/gan_ae.pt')\n",
    "\n",
    "model_ae.load_state_dict(checkpoint_ae['gen_state_dict'])\n",
    "disc_ae.load_state_dict(checkpoint_ae['disc_state_dict'])\n",
    "de_ident_rate_ae = checkpoint_ae['de_ident_rate']\n",
    "str_simil_ae = checkpoint_ae['str_simil']\n",
    "print(de_ident_rate_ae)\n",
    "print(str_simil_ae)\n",
    "# gen_ms.eval()"
   ]
  },
  {
   "cell_type": "markdown",
   "metadata": {},
   "source": [
    "## test"
   ]
  },
  {
   "cell_type": "code",
   "execution_count": 33,
   "metadata": {},
   "outputs": [
    {
     "name": "stdout",
     "output_type": "stream",
     "text": [
      "sparse_rate 1\n",
      "L 64\n",
      "window 256\n",
      "step 4\n"
     ]
    }
   ],
   "source": [
    "scales_vectors = np.array([torch_dataset.feature_scales[f] for f in range(len(required_params))])\n",
    "\n",
    "sparse_rate = torch_dataset.sparse_rate\n",
    "print('sparse_rate', sparse_rate)\n",
    "L = 64\n",
    "print('L', L)\n",
    "# window = L * sparse_rate\n",
    "window = 256\n",
    "print('window', window)\n",
    "step = 4\n",
    "print('step', step)"
   ]
  },
  {
   "cell_type": "code",
   "execution_count": 34,
   "metadata": {},
   "outputs": [
    {
     "data": {
      "text/plain": [
       "'well_17.json'"
      ]
     },
     "execution_count": 34,
     "metadata": {},
     "output_type": "execute_result"
    }
   ],
   "source": [
    "test_well = wells[22]\n",
    "test_well"
   ]
  },
  {
   "cell_type": "code",
   "execution_count": 35,
   "metadata": {},
   "outputs": [],
   "source": [
    "X_test = pd.DataFrame(logs[22]['data'], columns=[x['name'] for x in logs[22]['curves']])\n",
    "X_test = X_test[required_params]\n",
    "X_test = X_test.drop_duplicates()"
   ]
  },
  {
   "cell_type": "code",
   "execution_count": 36,
   "metadata": {},
   "outputs": [],
   "source": [
    "y_name = 'DEPTH'\n"
   ]
  },
  {
   "cell_type": "code",
   "execution_count": 37,
   "metadata": {},
   "outputs": [],
   "source": [
    "###################### CHECK ######################\n",
    "# t = X_test[y_name][:256].astype(float).values\n",
    "# x = X_test[required_params][:256].values\n",
    "\n",
    "# mean_x = x.mean(axis=0)\n",
    "# x = (x - mean_x) / scales_vectors\n",
    "# with torch.no_grad():\n",
    "#     x = torch.Tensor(x).view(1, x.shape[0], -1).to(device)\n",
    "#     z = gen_ms(x.transpose(1, 2))\n",
    "    \n",
    "# z = z.transpose(1, 2)[0].cpu().data.numpy()*scales_vectors + mean_x\n",
    "# print(t.shape)\n",
    "# plt.figure(figsize=(15, 5))\n",
    "# for i, curve_name in enumerate(required_params):\n",
    "#     plt.subplot(1, len(df.columns) - 1, i + 1)\n",
    "#     plt.plot(X_test[curve_name][:256].astype(float).values, t, lw=1, color='C1', alpha=0.5)\n",
    "# #     plt.plot(z[:, i].astype(float), t, lw=1, color='C0', alpha=0.5)\n",
    "#     axis = plt.gca()\n",
    "#     axis.invert_yaxis()\n",
    "#     axis.xaxis.tick_top()\n",
    "#     axis.xaxis.set_label_position('top')\n",
    "#     if i > 0: axis.set_yticklabels([])\n",
    "\n",
    "#     if i == 0:\n",
    "#         plt.ylabel(f'{y_name}')\n",
    "#     plt.xlabel(f'{curve_name}')\n",
    "# plt.tight_layout()\n",
    "\n",
    "# ######################### 1\n",
    "# t = X_test[y_name][256:512].astype(float).values\n",
    "# x = X_test[required_params][256:512].values\n",
    "\n",
    "# mean_x = x.mean(axis=0)\n",
    "# x = (x - mean_x) / scales_vectors\n",
    "# with torch.no_grad():\n",
    "#     x = torch.Tensor(x).view(1, x.shape[0], -1).to(device)\n",
    "#     z = gen_ms(x.transpose(1, 2))\n",
    "    \n",
    "# z = z.transpose(1, 2)[0].cpu().data.numpy()*scales_vectors + mean_x\n",
    "    \n",
    "# plt.figure(figsize=(15, 5))\n",
    "# for i, curve_name in enumerate(required_params):\n",
    "#     plt.subplot(1, len(df.columns) - 1, i + 1)\n",
    "#     plt.plot(X_test[curve_name][256:512].astype(float).values, t, lw=1, color='C1', alpha=0.5)\n",
    "#     plt.plot(z[:, i].astype(float), t, lw=1, color='C0', alpha=0.5)\n",
    "#     axis = plt.gca()\n",
    "#     axis.invert_yaxis()\n",
    "#     axis.xaxis.tick_top()\n",
    "#     axis.xaxis.set_label_position('top')\n",
    "\n",
    "# ######################### 2\n",
    "\n",
    "# t = X_test[y_name][512:768].astype(float).values\n",
    "# x = X_test[required_params][512:768].values\n",
    "\n",
    "# mean_x = x.mean(axis=0)\n",
    "# x = (x - mean_x) / scales_vectors\n",
    "# with torch.no_grad():\n",
    "#     x = torch.Tensor(x).view(1, x.shape[0], -1).to(device)\n",
    "#     z = gen_ms(x.transpose(1, 2))\n",
    "    \n",
    "# z = z.transpose(1, 2)[0].cpu().data.numpy()*scales_vectors + mean_x\n",
    "    \n",
    "# plt.figure(figsize=(15, 5))\n",
    "# for i, curve_name in enumerate(required_params):\n",
    "#     plt.subplot(1, len(df.columns) - 1, i + 1)\n",
    "#     plt.plot(X_test[curve_name][512:768].astype(float).values, t, lw=1, color='C1', alpha=0.5)\n",
    "#     plt.plot(z[:, i].astype(float), t, lw=1, color='C0', alpha=0.5)\n",
    "#     axis = plt.gca()\n",
    "#     axis.invert_yaxis()\n",
    "#     axis.xaxis.tick_top()\n",
    "#     axis.xaxis.set_label_position('top')\n",
    "    "
   ]
  },
  {
   "cell_type": "code",
   "execution_count": 38,
   "metadata": {},
   "outputs": [],
   "source": [
    "def apply_window_transform(x, s, latent_noise_rate=0):\n",
    "    x = x[np.arange(0, len(x), sparse_rate), :]\n",
    "    mean_x = x.mean(axis=0)\n",
    "    x = (x - mean_x)/s\n",
    "    with torch.no_grad():\n",
    "        x = torch.Tensor(x).view(1, x.shape[0], -1).to(device)\n",
    "        z = model_ae(x)\n",
    "    \n",
    "    return z[0].cpu().data.numpy()*s + mean_x, z[0].cpu().data.numpy()"
   ]
  },
  {
   "cell_type": "code",
   "execution_count": 39,
   "metadata": {},
   "outputs": [],
   "source": [
    "def apply_rolling_transform(X, w, scales, step=12):\n",
    "    Z = []\n",
    "    \n",
    "    for i in tqdm(range(0, len(X) - w, step)):\n",
    "        Z.append(apply_window_transform(X[i: i+w], scales))\n",
    "        \n",
    "    return Z"
   ]
  },
  {
   "cell_type": "code",
   "execution_count": 40,
   "metadata": {},
   "outputs": [
    {
     "name": "stderr",
     "output_type": "stream",
     "text": [
      "100%|██████████████████████████████████████████████████████████████████████████████████████████████████████████████████████████████████████████| 789/789 [00:01<00:00, 508.37it/s]\n"
     ]
    }
   ],
   "source": [
    "Z = apply_rolling_transform(X_test[required_params].values, window, scales_vectors, step)\n"
   ]
  },
  {
   "cell_type": "code",
   "execution_count": 41,
   "metadata": {},
   "outputs": [
    {
     "name": "stderr",
     "output_type": "stream",
     "text": [
      "789it [00:00, 176449.26it/s]\n",
      "/tmp/ipykernel_38124/2064526122.py:14: RuntimeWarning: Mean of empty slice\n",
      "  A = np.nanmean(A, axis=0)\n",
      "789it [00:00, 173026.55it/s]\n",
      "/tmp/ipykernel_38124/2064526122.py:14: RuntimeWarning: Mean of empty slice\n",
      "  A = np.nanmean(A, axis=0)\n",
      "789it [00:00, 165135.02it/s]\n",
      "/tmp/ipykernel_38124/2064526122.py:14: RuntimeWarning: Mean of empty slice\n",
      "  A = np.nanmean(A, axis=0)\n",
      "789it [00:00, 179473.17it/s]\n",
      "/tmp/ipykernel_38124/2064526122.py:14: RuntimeWarning: Mean of empty slice\n",
      "  A = np.nanmean(A, axis=0)\n",
      "789it [00:00, 175346.04it/s]\n",
      "/tmp/ipykernel_38124/2064526122.py:14: RuntimeWarning: Mean of empty slice\n",
      "  A = np.nanmean(A, axis=0)\n"
     ]
    },
    {
     "data": {
      "image/png": "[encoded data removed]",
      "text/plain": [
       "<Figure size 1008x720 with 5 Axes>"
      ]
     },
     "metadata": {},
     "output_type": "display_data"
    }
   ],
   "source": [
    "original = []\n",
    "generated = []\n",
    "\n",
    "t = X_test[y_name].astype(float).values\n",
    "plt.figure(figsize=(14, 10))\n",
    "for i, curve_name in enumerate(required_params):\n",
    "    plt.subplot(1, len(df.columns) - 1, i + 1)\n",
    "\n",
    "    zis = range(0, len(X_test) - window, step)\n",
    "    A = np.zeros((len(zis), len(X_test))) * np.nan\n",
    "    for zi, x in tqdm(enumerate(zis)):\n",
    "        A[zi, np.arange(x, x+window, sparse_rate)] = Z[zi][0][:, i]\n",
    "    \n",
    "    A = np.nanmean(A, axis=0)\n",
    "    not_nan_inds = np.where(~np.isnan(A))[0]\n",
    "    \n",
    "#     original.append(X_test[curve_name].astype(float).values)\n",
    "#     generated.append(A[not_nan_inds])\n",
    "    \n",
    "    plt.plot(A[not_nan_inds], t[not_nan_inds], color='C1', lw=1)\n",
    "    plt.plot(X_test[curve_name].astype(float).values, t, lw=1, color='C0', alpha=0.5)\n",
    "    plt.grid()\n",
    "    axis = plt.gca()\n",
    "    axis.invert_yaxis()\n",
    "    axis.xaxis.tick_top()\n",
    "    axis.xaxis.set_label_position('top')\n",
    "    if i > 0: axis.set_yticklabels([])\n",
    "\n",
    "    if i == 0:\n",
    "        plt.ylabel(f'{y_name}')\n",
    "    plt.xlabel(f'{curve_name}')\n",
    "\n",
    "plt.tight_layout()\n",
    "# plt.savefig('images/CBA.png')"
   ]
  },
  {
   "cell_type": "code",
   "execution_count": null,
   "metadata": {},
   "outputs": [],
   "source": []
  },
  {
   "cell_type": "code",
   "execution_count": 42,
   "metadata": {},
   "outputs": [],
   "source": [
    "# for i in required_params[:-1]:\n",
    "#     sns.displot(data=df_some, \n",
    "#             x=i, hue='WELL', kind='kde',\n",
    "#             fill=True, palette=sns.color_palette('bright')[:2], height=5, aspect=1.5\n",
    "#                )"
   ]
  },
  {
   "cell_type": "code",
   "execution_count": null,
   "metadata": {},
   "outputs": [],
   "source": []
  }
 ],
 "metadata": {
  "accelerator": "GPU",
  "colab": {
   "collapsed_sections": [
    "8fvVJ3YbdTY7"
   ],
   "name": "cGAN.ipynb",
   "provenance": []
  },
  "kernelspec": {
   "display_name": "Python 3 (ipykernel)",
   "language": "python",
   "name": "python3"
  },
  "language_info": {
   "codemirror_mode": {
    "name": "ipython",
    "version": 3
   },
   "file_extension": ".py",
   "mimetype": "text/x-python",
   "name": "python",
   "nbconvert_exporter": "python",
   "pygments_lexer": "ipython3",
   "version": "3.9.5"
  }
 },
 "nbformat": 4,
 "nbformat_minor": 1
}
